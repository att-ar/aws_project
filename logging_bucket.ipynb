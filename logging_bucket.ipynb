{
 "cells": [
  {
   "attachments": {},
   "cell_type": "markdown",
   "metadata": {},
   "source": [
    "## Creating a Logging Bucket (One time thing)"
   ]
  },
  {
   "cell_type": "code",
   "execution_count": null,
   "metadata": {},
   "outputs": [],
   "source": [
    "import boto3\n",
    "# print(\"Version: \", boto3.__version__)\n",
    "# #list all buckets in s3 that the user can see\n",
    "print(\"Buckets:\", *boto3.client(\"s3\").list_buckets()[\"Buckets\"], sep=\"\\n  \")\n",
    "# #list current user's region\n",
    "# print(\"Region: \", boto3.Session().region_name)\n",
    "\n",
    "# from botocore.exceptions import ClientError\n",
    "import datetime\n",
    "# import pandas as pd\n",
    "# pyarrow must be installed to use parquet files in Pandas\n",
    "\n",
    "import s3_delete as s3del\n",
    "import s3_generate as s3gen\n",
    "import s3_get as s3get\n",
    "import s3_set as s3set\n",
    "\n",
    "import display_modules as dp\n",
    "# from inspect import getmembers, isfunction\n",
    "\n",
    "%load_ext autoreload\n",
    "%autoreload 2"
   ]
  },
  {
   "attachments": {},
   "cell_type": "markdown",
   "metadata": {},
   "source": [
    "- [Create](#create)\n",
    "- [Getters](#get)\n",
    "- [Setters](#set)"
   ]
  },
  {
   "attachments": {},
   "cell_type": "markdown",
   "metadata": {},
   "source": [
    "Display the Functions available in the imported modules. Remember to use the import alias not the module name."
   ]
  },
  {
   "cell_type": "code",
   "execution_count": null,
   "metadata": {},
   "outputs": [],
   "source": [
    "dp.display_callables(s3del)\n",
    "dp.display_callables(s3gen)\n",
    "dp.display_callables(s3get)\n",
    "dp.display_callables(s3set)"
   ]
  },
  {
   "cell_type": "code",
   "execution_count": null,
   "metadata": {},
   "outputs": [],
   "source": [
    "s3_resource = boto3.resource(\"s3\")\n",
    "s3_client = boto3.client(\"s3\")"
   ]
  },
  {
   "attachments": {},
   "cell_type": "markdown",
   "metadata": {},
   "source": [
    "<a id=\"create\"></a>\n",
    "## Create"
   ]
  },
  {
   "cell_type": "code",
   "execution_count": null,
   "metadata": {},
   "outputs": [],
   "source": [
    "# logging_bucket_name, logging_bucket_response = s3gen.gen_bucket(\"logging-bucket\", s3_resource)\n",
    "# logging_bucket_response\n",
    "## giving the logging bucket the required permissions via a policy"
   ]
  },
  {
   "attachments": {},
   "cell_type": "markdown",
   "metadata": {},
   "source": [
    "<a id=\"get\"></a>\n",
    "## Get S3 Things"
   ]
  },
  {
   "attachments": {},
   "cell_type": "markdown",
   "metadata": {},
   "source": [
    "Get list of bucket dictionaries using a prefix and/or a date or date interval as a filter"
   ]
  },
  {
   "cell_type": "code",
   "execution_count": null,
   "metadata": {},
   "outputs": [],
   "source": [
    "s3get.get_buckets_with_name_date(\"logging\", [datetime.date(2023,2,12), \"2023-2-16\"])"
   ]
  },
  {
   "attachments": {},
   "cell_type": "markdown",
   "metadata": {},
   "source": [
    "Get list of bucket dictionaries using tags as filters"
   ]
  },
  {
   "cell_type": "code",
   "execution_count": null,
   "metadata": {},
   "outputs": [],
   "source": [
    "s3get.get_buckets_with_tags({\"fruit\":\"melon\"}, s3_format=False)"
   ]
  },
  {
   "attachments": {},
   "cell_type": "markdown",
   "metadata": {},
   "source": [
    "Get list of object dictionaries using tags as filters"
   ]
  },
  {
   "cell_type": "code",
   "execution_count": null,
   "metadata": {},
   "outputs": [],
   "source": [
    "s3get.get_objects_with_tags_from_bucket(\"melon\", {\"creator\":\"lemon\"}, s3_format=False)"
   ]
  },
  {
   "attachments": {},
   "cell_type": "markdown",
   "metadata": {},
   "source": [
    "<a id=\"set\"></a>\n",
    "## Set S3 things"
   ]
  },
  {
   "cell_type": "code",
   "execution_count": null,
   "metadata": {},
   "outputs": [],
   "source": [
    "bucket_name = \"melon\"\n",
    "object_name = \"lemon\"\n",
    "creator = \"fruit-tree\""
   ]
  },
  {
   "attachments": {},
   "cell_type": "markdown",
   "metadata": {},
   "source": [
    "Add tags to a bucket"
   ]
  },
  {
   "cell_type": "code",
   "execution_count": null,
   "metadata": {},
   "outputs": [],
   "source": [
    "tags = {\"creator\": creator, \"content\": \"logs\"}\n",
    "s3set.add_tags_to_bucket(bucket_name, tags, s3_format=False)"
   ]
  },
  {
   "attachments": {},
   "cell_type": "markdown",
   "metadata": {},
   "source": [
    "Add tags to an object in a bucket"
   ]
  },
  {
   "cell_type": "code",
   "execution_count": null,
   "metadata": {},
   "outputs": [],
   "source": [
    "tags = {\"test-tag\": \"testingfunction_addtagtoobject\"}\n",
    "s3set.add_tags_to_object(bucket_name, object_name, tags, s3_format=False)"
   ]
  },
  {
   "attachments": {},
   "cell_type": "markdown",
   "metadata": {},
   "source": [
    "Endeavours with policies and logging that have not been completed"
   ]
  },
  {
   "cell_type": "code",
   "execution_count": null,
   "metadata": {},
   "outputs": [],
   "source": [
    "# b_policy = s3_resource.BucketPolicy(bucket_name)\n",
    "# b_policy.policy()\n",
    "# b_lifecycle = s3_resource.BucketLifecycleConfiguration(bucket_name)\n",
    "# b_lifecycle.rules"
   ]
  },
  {
   "cell_type": "code",
   "execution_count": null,
   "metadata": {},
   "outputs": [],
   "source": [
    "# bucket_logging_settings = boto3.resource(\"s3\").BucketLogging(bucket_name)\n",
    "# print(bucket_logging_settings.logging_enabled)"
   ]
  }
 ],
 "metadata": {
  "kernelspec": {
   "display_name": "tflow",
   "language": "python",
   "name": "python3"
  },
  "language_info": {
   "codemirror_mode": {
    "name": "ipython",
    "version": 3
   },
   "file_extension": ".py",
   "mimetype": "text/x-python",
   "name": "python",
   "nbconvert_exporter": "python",
   "pygments_lexer": "ipython3",
   "version": "3.10.8"
  },
  "orig_nbformat": 4,
  "vscode": {
   "interpreter": {
    "hash": "eb10c77677f2681c8cdc430d61d84fa8c5e932d580c2651cbb47fadd398eac22"
   }
  }
 },
 "nbformat": 4,
 "nbformat_minor": 2
}
