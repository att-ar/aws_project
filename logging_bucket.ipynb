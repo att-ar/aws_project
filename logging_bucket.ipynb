{
 "cells": [
  {
   "attachments": {},
   "cell_type": "markdown",
   "metadata": {},
   "source": [
    "## Creating a Logging Bucket (One time thing)"
   ]
  },
  {
   "cell_type": "code",
   "execution_count": null,
   "metadata": {},
   "outputs": [],
   "source": [
    "import boto3\n",
    "print(\"Version: \", boto3.__version__)\n",
    "#list all buckets in s3 that the user can see\n",
    "print(\"Buckets:\", *boto3.client(\"s3\").list_buckets()[\"Buckets\"], sep=\"\\n  \")\n",
    "#list current user's region\n",
    "print(\"Region: \", boto3.Session().region_name)\n",
    "\n",
    "from s3_bucket_helper import *\n",
    "\n",
    "%load_ext autoreload\n",
    "%autoreload 2"
   ]
  },
  {
   "cell_type": "code",
   "execution_count": null,
   "metadata": {},
   "outputs": [],
   "source": [
    "s3_resource = boto3.resource(\"s3\")\n",
    "s3_client = boto3.client(\"s3\")"
   ]
  },
  {
   "cell_type": "code",
   "execution_count": null,
   "metadata": {},
   "outputs": [],
   "source": [
    "# logging_bucket_name, logging_bucket_response = gen_bucket(\"logging-bucket\", s3_resource)\n",
    "# logging_bucket_response\n",
    "## giving the logging bucket the required permissions via a policy"
   ]
  },
  {
   "attachments": {},
   "cell_type": "markdown",
   "metadata": {},
   "source": [
    "Get list of bucket dictionaries using a prefix and/or a date or date interval as a filter"
   ]
  },
  {
   "cell_type": "code",
   "execution_count": null,
   "metadata": {},
   "outputs": [],
   "source": [
    "get_buckets_with_name_date(\"logging\", [datetime.date(2023,2,12), \"2023-2-16\"])"
   ]
  },
  {
   "attachments": {},
   "cell_type": "markdown",
   "metadata": {},
   "source": [
    "Get list of bucket dictionaries using tags as filters (Not started yet)"
   ]
  },
  {
   "cell_type": "code",
   "execution_count": null,
   "metadata": {},
   "outputs": [],
   "source": [
    "s3_client.get_bucket_tagging(Bucket = \"ecm-simdata-attar\")"
   ]
  },
  {
   "cell_type": "code",
   "execution_count": null,
   "metadata": {},
   "outputs": [],
   "source": [
    "s3_resource.BucketPolicy"
   ]
  },
  {
   "cell_type": "code",
   "execution_count": null,
   "metadata": {},
   "outputs": [],
   "source": [
    "help(s3_client.get_bucket_logging)"
   ]
  }
 ],
 "metadata": {
  "kernelspec": {
   "display_name": "tflow",
   "language": "python",
   "name": "python3"
  },
  "language_info": {
   "codemirror_mode": {
    "name": "ipython",
    "version": 3
   },
   "file_extension": ".py",
   "mimetype": "text/x-python",
   "name": "python",
   "nbconvert_exporter": "python",
   "pygments_lexer": "ipython3",
   "version": "3.10.8"
  },
  "orig_nbformat": 4,
  "vscode": {
   "interpreter": {
    "hash": "eb10c77677f2681c8cdc430d61d84fa8c5e932d580c2651cbb47fadd398eac22"
   }
  }
 },
 "nbformat": 4,
 "nbformat_minor": 2
}
